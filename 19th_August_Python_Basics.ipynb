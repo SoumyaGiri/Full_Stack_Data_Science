{
 "cells": [
  {
   "cell_type": "code",
   "execution_count": 5,
   "id": "9756d7fc-b3d0-4aaa-85a4-5122ceca18a6",
   "metadata": {},
   "outputs": [
    {
     "name": "stdout",
     "output_type": "stream",
     "text": [
      "x = 10\n",
      "y = 5\n"
     ]
    }
   ],
   "source": [
    "#question 1\n",
    "\"\"\"Declare two variables, `x` and `y`, and assign them integer values. Swap the\n",
    "values of these variables without using any temporary variable\"\"\"\n",
    "\n",
    "x = 5\n",
    "y = 10\n",
    "x, y = y, x\n",
    "print(\"x =\", x)\n",
    "print(\"y =\", y)"
   ]
  },
  {
   "cell_type": "markdown",
   "id": "ac48d118-044c-4308-af41-914f996c8388",
   "metadata": {},
   "source": [
    "This code demonstrates a common Python technique for swapping the values of two variables (x and y) without using a temporary variable. Here's a step-by-step explanation of what's happening:\n",
    "\n",
    "1. x = 5 and y = 10 initialize two variables, x with a value of 5 and y with a value of 10.\n",
    "\n",
    "2. The line x, y = y, x is where the actual swapping takes place. This line uses a tuple packing and unpacking mechanism. Here's how it works:\n",
    "\n",
    "2.1. On the right side of the assignment (y, x), a tuple is created with the values of y and x. So, effectively, it  becomes (10, 5).\n",
    "\n",
    "2.2 On the left side of the assignment, (10, 5) is unpacked into the variables x and y. Since x is on the left, it gets the value 10 (the first element of the tuple), and y gets the value 5 (the second element of the tuple).\n",
    "\n",
    "3. After this line of code, the values of x and y have been swapped. Now, x contains 10, and y contains 5.\n",
    "\n",
    "4. Finally, the print statements are used to display the values of x and y after the swap. "
   ]
  },
  {
   "cell_type": "code",
   "execution_count": 2,
   "id": "41df8804-b132-4353-98bd-5b056869a01b",
   "metadata": {},
   "outputs": [
    {
     "name": "stdin",
     "output_type": "stream",
     "text": [
      "Enter the length of the rectangle:  10\n",
      "Enter the width of the rectangle:  10\n"
     ]
    },
    {
     "name": "stdout",
     "output_type": "stream",
     "text": [
      "Area of the rectangle is:  100.0\n"
     ]
    }
   ],
   "source": [
    "#question 2\n",
    "\"\"\"Create a program that calculates the area of a rectangle. Take the length and\n",
    "width as inputs from the user and store them in variables. Calculate and\n",
    "display the area\"\"\"\n",
    "\n",
    "length = float(input(\"Enter the length of the rectangle: \"))\n",
    "width = float(input(\"Enter the width of the rectangle: \"))\n",
    "\n",
    "area = (length*width)\n",
    "\n",
    "print(\"Area of the rectangle is: \", area)"
   ]
  },
  {
   "cell_type": "markdown",
   "id": "c35194cd-c509-43b7-934f-1ca456e1a12e",
   "metadata": {},
   "source": [
    "This Python code calculates and displays the area of a rectangle based on user input for the length and width of the rectangle. Here's a step-by-step explanation of what the code does:\n",
    "\n",
    "1. length = float(input(\"Enter the length of the rectangle: \")): This line prompts the user to enter the length of the rectangle and then reads the input as a string using the input() function. The float() function is used to convert the user's input from a string to a floating-point number because the length of the rectangle can be a decimal value. The result is assigned to the variable length.\n",
    "\n",
    "2. width = float(input(\"Enter the width of the rectangle: \")): Similarly, this line prompts the user to enter the width of the rectangle, reads the input as a string, and converts it to a floating-point number. The result is assigned to the variable width.\n",
    "\n",
    "3. area = (length * width): This line calculates the area of the rectangle by multiplying the values of length and width. The result is stored in the variable area.\n",
    "\n",
    "4. print(\"Area of the rectangle is: \", area): Finally, this line prints the calculated area to the console along with a descriptive message. The value of area is included in the output."
   ]
  },
  {
   "cell_type": "code",
   "execution_count": 6,
   "id": "4e756fa1-1561-4aa4-8025-685fb9af85cb",
   "metadata": {},
   "outputs": [
    {
     "name": "stdin",
     "output_type": "stream",
     "text": [
      "Enter the celcius temperature:  23.56\n"
     ]
    },
    {
     "name": "stdout",
     "output_type": "stream",
     "text": [
      "Temperature in Fahrenheit is  74.408\n"
     ]
    }
   ],
   "source": [
    "#question 3\n",
    "\"\"\"Write a Python program that converts temperatures from Celsius to\n",
    "Fahrenheit. Take the temperature in Celsius as input, store it in a variable,\n",
    "convert it to Fahrenheit, and display the result.\"\"\"\n",
    "\n",
    "Celsius = float(input(\"Enter the celcius temperature: \"))\n",
    "Fahrenheit = ((Celsius*9)/5) + 32\n",
    "print(\"Temperature in Fahrenheit is \",Fahrenheit)"
   ]
  },
  {
   "cell_type": "markdown",
   "id": "ac60fb62-3c14-46f0-97c9-91da3be6b4c8",
   "metadata": {},
   "source": [
    "This Python code converts a temperature from Celsius to Fahrenheit and then prints the result. Here's a step-by-step explanation of how the code works:\n",
    "\n",
    "1. Celsius = float(input(\"Enter the Celsius temperature: \")): This line prompts the user to enter a temperature in degrees Celsius. The input() function is used to read the user's input as a string. Since temperatures can be represented as floating-point numbers (e.g., 23.5 degrees Celsius), the float() function is used to convert the user's input to a floating-point number. The result is stored in the variable Celsius.\n",
    "\n",
    "2. Fahrenheit = ((Celsius * 9) / 5) + 32: This line calculates the equivalent temperature in degrees Fahrenheit. The formula to convert from Celsius to Fahrenheit is (Celsius * 9/5) + 32. This line applies the formula by first multiplying Celsius by 9/5 to convert it to Fahrenheit and then adding 32 to the result. The calculated Fahrenheit temperature is stored in the variable Fahrenheit.\n",
    "\n",
    "3. print(\"Temperature in Fahrenheit is \", Fahrenheit): Finally, this line prints the calculated temperature in degrees Fahrenheit along with a descriptive message. The value of Fahrenheit is included in the output."
   ]
  },
  {
   "cell_type": "code",
   "execution_count": 6,
   "id": "d26c7c10-de24-4750-8318-8ef73782a8b4",
   "metadata": {},
   "outputs": [
    {
     "name": "stdin",
     "output_type": "stream",
     "text": [
      "Enter a string:  my name is soumya kanti giri\n"
     ]
    },
    {
     "name": "stdout",
     "output_type": "stream",
     "text": [
      "28\n"
     ]
    }
   ],
   "source": [
    "#question string 1\n",
    "\"\"\"Write a Python program that takes a string as input and prints the length of\n",
    "the string.\"\"\"\n",
    "\n",
    "x = (input('Enter a string: '))\n",
    "print(len(x))"
   ]
  },
  {
   "cell_type": "markdown",
   "id": "4acaf49f-61f2-46f4-bce9-6af949adfefb",
   "metadata": {},
   "source": [
    "This Python code takes a user's input as a string, calculates the length of that string, and then prints the length of the string. Here's a step-by-step explanation of how the code works:\n",
    "\n",
    "1. x = (input('Enter a string: ')): This line prompts the user to enter a string by displaying the message \"Enter a string: \" using the input() function. The input() function reads the user's input as a string and assigns it to the variable x. So, whatever the user enters will be stored in the variable x as a string.\n",
    "\n",
    "2. print(len(x)): This line calculates the length of the string stored in the variable x using the len() function. The len() function is a built-in Python function that returns the number of characters (including spaces) in a string. It doesn't count just the alphabetic characters; it counts all characters in the string, including letters, numbers, symbols, and spaces. The result of len(x) is an integer representing the length of the string.\n",
    "\n",
    "3. Finally, the code prints the length of the string to the console using the print() function."
   ]
  },
  {
   "cell_type": "code",
   "execution_count": 1,
   "id": "f61a3bb6-0462-4187-a72f-6b94fc80a586",
   "metadata": {},
   "outputs": [
    {
     "name": "stdout",
     "output_type": "stream",
     "text": [
      "enter the line :my name is soumya kanti giri\n",
      "number of vowels 10\n"
     ]
    }
   ],
   "source": [
    "#question string 2\n",
    "\"\"\"Create a program that takes a sentence from the user and counts the number\n",
    "of vowels (a, e, i, o, u) in the string.\"\"\"\n",
    "\n",
    "s = input (\"enter the line :\")\n",
    "a = 0\n",
    "for b in s:\n",
    "    s = b.lower()\n",
    "    if s in \"aeiou\" :\n",
    "        a += 1\n",
    "print(\"number of vowels\", a)"
   ]
  },
  {
   "cell_type": "markdown",
   "id": "47a2b43b-48c2-407e-a3db-22f6b7778936",
   "metadata": {},
   "source": [
    "'This Python code counts the number of vowels in a given input string. Here's a step-by-step explanation of how the code works:\n",
    "\n",
    "1. s = input(\"enter the line :\"): This line prompts the user to enter a line of text and stores the input as a string in the variable s.\n",
    "\n",
    "2. a = 0: This line initializes a variable a to 0. This variable will be used to keep track of the count of vowels in the input string.\n",
    "\n",
    "3. for b in s:: This line starts a for loop that iterates through each character in the string s. The loop variable b represents each character in the string one at a time.\n",
    "\n",
    "4. s = b.lower(): Inside the loop, the code converts the current character b to lowercase using the lower() method. This is done to ensure that both uppercase and lowercase vowels are counted correctly. The result is stored back in the variable s, which overwrites the original s string. This line effectively converts each character in the string to lowercase.\n",
    "\n",
    "5. if s in \"aeiou\":: This line checks if the lowercase character s is one of the vowels \"a,\" \"e,\" \"i,\" \"o,\" or \"u.\" It does this by checking if s is contained within the string \"aeiou\".\n",
    "\n",
    "6. a += 1: If the character is a vowel, the code increments the variable a by 1. This means that for each vowel encountered in the input string, the count a is increased by 1.\n",
    "\n",
    "7. Finally, outside the loop, the code prints the count of vowels in the input string using print(\"number of vowels\", a)."
   ]
  },
  {
   "cell_type": "code",
   "execution_count": 1,
   "id": "6886c338-3f3d-4584-a493-8288b16665cb",
   "metadata": {},
   "outputs": [
    {
     "name": "stdin",
     "output_type": "stream",
     "text": [
      "Enter a string:  my name is soumya giri\n"
     ]
    },
    {
     "name": "stdout",
     "output_type": "stream",
     "text": [
      "string: irig aymuos si eman ym\n"
     ]
    }
   ],
   "source": [
    "#question string 3\n",
    "\"\"\"Given a string, reverse the order of characters using string slicing and print\n",
    "the reversed string.\"\"\"\n",
    "\n",
    "string = input(\"Enter a string: \")\n",
    "string = string[ : : -1]\n",
    "print(\"string:\", string)"
   ]
  },
  {
   "cell_type": "markdown",
   "id": "339ccca5-a4cd-40bb-958a-9b56b1ac630f",
   "metadata": {},
   "source": [
    "This Python code takes a user-inputted string, reverses it, and then prints the reversed string. Here's a step-by-step explanation of how the code works:\n",
    "\n",
    "1. string = input(\"Enter a string: \"): This line prompts the user to enter a string and reads the input using the input() function. The entered string is stored in the variable string.\n",
    "\n",
    "2. string = string[::-1]: This line reverses the string by utilizing slicing with a step of -1. Here's how it works:\n",
    "\n",
    "2.1 string[::]: This part of the code represents slicing the entire string. It includes all characters in the original order.\n",
    "\n",
    "2.2 string[::-1]: The -1 step value indicates that we want to traverse the string in reverse order, starting from the end and moving towards the beginning. This effectively reverses the characters in the string.\n",
    "\n",
    "2.3 The result of string[::-1] is a new string that contains the characters of the original string in reverse order.\n",
    "\n",
    "3. print(\"string:\", string): Finally, this line prints the reversed string, along with the message \"string:\", to the console."
   ]
  },
  {
   "cell_type": "code",
   "execution_count": 10,
   "id": "85bb2223-dfde-4468-a78e-718462ffb7eb",
   "metadata": {},
   "outputs": [
    {
     "name": "stdin",
     "output_type": "stream",
     "text": [
      "Enter a string:  121\n"
     ]
    },
    {
     "name": "stdout",
     "output_type": "stream",
     "text": [
      "The input string is a palindrome.\n"
     ]
    }
   ],
   "source": [
    "#question string 4\n",
    "\"\"\"Write a program that takes a string as input and checks if it is a palindrome\n",
    "(reads the same forwards and backwards).\"\"\"\n",
    "\n",
    "string = input(\"Enter a string: \")\n",
    "a = string.replace(\" \", \"\").lower()\n",
    "b = a [ : :-1]\n",
    "if a == b:\n",
    "    print(\"The input string is a palindrome.\")\n",
    "else:\n",
    "    print(\"The input string is not a palindrome.\")"
   ]
  },
  {
   "cell_type": "markdown",
   "id": "a36b23b2-1541-420c-913e-fc3b43a5c405",
   "metadata": {},
   "source": [
    "This Python code checks whether an input string is a palindrome or not and then prints the result. Here's a step-by-step explanation of how the code works:\n",
    "\n",
    "1. string = input(\"Enter a string: \"): This line prompts the user to enter a string and reads the input using the input() function. The entered string is stored in the variable string.\n",
    "\n",
    "2. a = string.replace(\" \", \"\").lower(): This line prepares the string for palindrome checking. It does two things:\n",
    "\n",
    "2.2 string.replace(\" \", \"\"): It removes all spaces from the input string by using the replace() method. This is done to handle cases where the palindrome might have spaces.\n",
    "\n",
    "2.3 .lower(): It converts the string to lowercase using the lower() method. This is done to ensure that the palindrome check is case-insensitive. For example, \"Racecar\" and \"racecar\" should be considered palindromes.\n",
    "\n",
    "3. b = a[::-1]: This line reverses the string a by using slicing with a step of -1, similar to the explanation in your previous question. It creates a new string b that contains the characters of a in reverse order.\n",
    "\n",
    "4. if a == b:: This line compares the original string a (without spaces and in lowercase) with the reversed string b. If they are equal, it means that the input string is a palindrome.\n",
    "\n",
    "5. If the condition in the if statement is true (i.e., a is equal to b), the code prints \"The input string is a palindrome.\" Otherwise, if the condition is false, it prints \"The input string is not a palindrome.\""
   ]
  },
  {
   "cell_type": "code",
   "execution_count": 4,
   "id": "a91c0f6a-8720-4216-bc8c-b2464ae27e6c",
   "metadata": {},
   "outputs": [
    {
     "name": "stdin",
     "output_type": "stream",
     "text": [
      "enter the string input:  soumya kanti giri\n"
     ]
    },
    {
     "name": "stdout",
     "output_type": "stream",
     "text": [
      "soumyakantigiri\n"
     ]
    }
   ],
   "source": [
    "#question string 5\n",
    "\"\"\"Create a program that takes a string as input and removes all the spaces from\n",
    "it. Print the modified string without spaces.\"\"\"\n",
    "\n",
    "string = input(\"enter the string input: \")\n",
    "string = string.replace(\" \", \"\")\n",
    "print (string)"
   ]
  },
  {
   "cell_type": "markdown",
   "id": "fa09ec15-1a20-479a-a56a-0a356a2d6822",
   "metadata": {},
   "source": [
    "This Python code takes a string as input from the user, removes all the spaces from the input string, and then prints the modified string without spaces. Here's a step-by-step explanation of how the code works:\n",
    "\n",
    "1. string = input(\"enter the string input: \"): This line prompts the user to enter a string and reads the input using the input() function. The entered string is stored in the variable string.\n",
    "\n",
    "2. string = string.replace(\" \", \"\"): This line modifies the string by using the replace() method. Specifically, it replaces all occurrences of spaces in the original string with an empty string (\"\"). This effectively removes all spaces from the input string.\n",
    "\n",
    "3. print(string): Finally, this line prints the modified string (with spaces removed) to the console."
   ]
  }
 ],
 "metadata": {
  "kernelspec": {
   "display_name": "Python 3 (ipykernel)",
   "language": "python",
   "name": "python3"
  },
  "language_info": {
   "codemirror_mode": {
    "name": "ipython",
    "version": 3
   },
   "file_extension": ".py",
   "mimetype": "text/x-python",
   "name": "python",
   "nbconvert_exporter": "python",
   "pygments_lexer": "ipython3",
   "version": "3.11.4"
  }
 },
 "nbformat": 4,
 "nbformat_minor": 5
}
